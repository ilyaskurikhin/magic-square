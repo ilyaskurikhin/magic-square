{
 "cells": [
  {
   "cell_type": "code",
   "execution_count": 1,
   "metadata": {
    "collapsed": true
   },
   "outputs": [],
   "source": [
    "from itertools import permutations"
   ]
  },
  {
   "cell_type": "code",
   "execution_count": 2,
   "metadata": {
    "collapsed": false
   },
   "outputs": [],
   "source": [
    "class Square:\n",
    "    \n",
    "    def __init__(self, numbers):\n",
    "        self.numbers = numbers;\n",
    "        self.sums_v = [0] * len(self.numbers[0])\n",
    "        self.sums_h = [0] * len(self.numbers)\n",
    "        for i in range(0,len(self.numbers)):\n",
    "            for j in range(0,len(self.numbers)):\n",
    "                self.sums_h[i] += numbers[i][j]\n",
    "                self.sums_v[j] += numbers[i][j]\n",
    "                \n",
    "    def checkSums(self, number):\n",
    "        for s in self.sums_v:\n",
    "            if s != number:\n",
    "                return False\n",
    "        \n",
    "        for s in self.sums_h:\n",
    "            if s != number:\n",
    "                return False\n",
    "            \n",
    "        # none not matching was found  \n",
    "        \n",
    "        return True\n",
    "        \n",
    "    def show(self):\n",
    "        print_string = \"    \"\n",
    "        \n",
    "        # vertical results\n",
    "        for s in self.sums_v:\n",
    "            print_string += str(s) + \"   \"\n",
    "\n",
    "        # square\n",
    "        row_num = 0\n",
    "        for row in self.numbers:\n",
    "            # horizontal result\n",
    "            print_string += \"\\n\"\n",
    "            \n",
    "            for i in range(0,3):\n",
    "                print_string += \" \"\n",
    "                \n",
    "            for i in range(0,len(row)*4 - 1):\n",
    "                print_string += \"-\"\n",
    "                \n",
    "            print_string += \"\\n\"\n",
    "            \n",
    "            # print matrix contents\n",
    "            print_string += str(self.sums_h[row_num]) + \" |\"\n",
    "            for number in row:\n",
    "                print_string += \" \" + str(number) + \" |\"\n",
    "            \n",
    "            #increment counter for rows\n",
    "            row_num += 1\n",
    "        \n",
    "        print_string += \"\\n   \"\n",
    "        for i in range(0,len(self.numbers[1])*4 -1):\n",
    "            print_string += \"-\"\n",
    "            \n",
    "        print(print_string)"
   ]
  },
  {
   "cell_type": "code",
   "execution_count": 3,
   "metadata": {
    "collapsed": false
   },
   "outputs": [],
   "source": [
    "square = Square([[1,2,3,0],\n",
    "                 [0,0,0,0],\n",
    "                 [0,0,0,0]])"
   ]
  },
  {
   "cell_type": "code",
   "execution_count": 25,
   "metadata": {
    "collapsed": false
   },
   "outputs": [],
   "source": [
    "size_v = 3\n",
    "size_h = 3\n",
    "\n",
    "perms = list(permutations(range(1,size_v*size_h+1)))\n",
    "\n",
    "matrices = []\n",
    "for perm in perms:\n",
    "    matrix = []\n",
    "    for i in range(0,size_v):\n",
    "        row = []\n",
    "        for j in range(0,size_h):\n",
    "            row.append(perm[i*size_h + j])\n",
    "        matrix.append(row)\n",
    "    matrices.append(matrix)"
   ]
  },
  {
   "cell_type": "code",
   "execution_count": 28,
   "metadata": {
    "collapsed": true
   },
   "outputs": [],
   "source": [
    "for matrix in matrices:\n",
    "    matrix[1][1] = 0"
   ]
  },
  {
   "cell_type": "code",
   "execution_count": 29,
   "metadata": {
    "collapsed": false
   },
   "outputs": [
    {
     "name": "stdout",
     "output_type": "stream",
     "text": [
      "    12   12   12   \n",
      "   -----------\n",
      "12 | 1 | 5 | 6 |\n",
      "   -----------\n",
      "12 | 8 | 0 | 4 |\n",
      "   -----------\n",
      "12 | 3 | 7 | 2 |\n",
      "   -----------\n",
      "    12   12   12   \n",
      "   -----------\n",
      "12 | 1 | 8 | 3 |\n",
      "   -----------\n",
      "12 | 5 | 0 | 7 |\n",
      "   -----------\n",
      "12 | 6 | 4 | 2 |\n",
      "   -----------\n",
      "    12   12   12   \n",
      "   -----------\n",
      "12 | 2 | 4 | 6 |\n",
      "   -----------\n",
      "12 | 7 | 0 | 5 |\n",
      "   -----------\n",
      "12 | 3 | 8 | 1 |\n",
      "   -----------\n",
      "    12   12   12   \n",
      "   -----------\n",
      "12 | 2 | 7 | 3 |\n",
      "   -----------\n",
      "12 | 4 | 0 | 8 |\n",
      "   -----------\n",
      "12 | 6 | 5 | 1 |\n",
      "   -----------\n",
      "    12   12   12   \n",
      "   -----------\n",
      "12 | 3 | 7 | 2 |\n",
      "   -----------\n",
      "12 | 8 | 0 | 4 |\n",
      "   -----------\n",
      "12 | 1 | 5 | 6 |\n",
      "   -----------\n",
      "    12   12   12   \n",
      "   -----------\n",
      "12 | 3 | 8 | 1 |\n",
      "   -----------\n",
      "12 | 7 | 0 | 5 |\n",
      "   -----------\n",
      "12 | 2 | 4 | 6 |\n",
      "   -----------\n",
      "    12   12   12   \n",
      "   -----------\n",
      "12 | 6 | 4 | 2 |\n",
      "   -----------\n",
      "12 | 5 | 0 | 7 |\n",
      "   -----------\n",
      "12 | 1 | 8 | 3 |\n",
      "   -----------\n",
      "    12   12   12   \n",
      "   -----------\n",
      "12 | 6 | 5 | 1 |\n",
      "   -----------\n",
      "12 | 4 | 0 | 8 |\n",
      "   -----------\n",
      "12 | 2 | 7 | 3 |\n",
      "   -----------\n"
     ]
    }
   ],
   "source": [
    "for matrix in matrices:\n",
    "    s = Square(matrix)\n",
    "    if s.checkSums(12):\n",
    "        s.show()"
   ]
  },
  {
   "cell_type": "code",
   "execution_count": null,
   "metadata": {
    "collapsed": false
   },
   "outputs": [],
   "source": []
  },
  {
   "cell_type": "code",
   "execution_count": null,
   "metadata": {
    "collapsed": true
   },
   "outputs": [],
   "source": []
  }
 ],
 "metadata": {
  "kernelspec": {
   "display_name": "Python 3",
   "language": "python",
   "name": "python3"
  },
  "language_info": {
   "codemirror_mode": {
    "name": "ipython",
    "version": 3
   },
   "file_extension": ".py",
   "mimetype": "text/x-python",
   "name": "python",
   "nbconvert_exporter": "python",
   "pygments_lexer": "ipython3",
   "version": "3.5.3"
  }
 },
 "nbformat": 4,
 "nbformat_minor": 2
}
