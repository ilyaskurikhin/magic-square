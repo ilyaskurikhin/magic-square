{
 "cells": [
  {
   "cell_type": "code",
   "execution_count": 1,
   "metadata": {
    "collapsed": false,
    "deletable": true,
    "editable": true,
    "slideshow": {
     "slide_type": "-"
    }
   },
   "outputs": [],
   "source": [
    "from magicsquare import *"
   ]
  },
  {
   "cell_type": "code",
   "execution_count": 2,
   "metadata": {
    "collapsed": true
   },
   "outputs": [],
   "source": [
    "# choose the matrix size and generate permutations\n",
    "# args: vertical size,\n",
    "#       horizontal size\n",
    "matrices = generatePerms(3,3)"
   ]
  },
  {
   "cell_type": "code",
   "execution_count": 3,
   "metadata": {
    "collapsed": false,
    "deletable": true,
    "editable": true,
    "scrolled": true
   },
   "outputs": [
    {
     "name": "stdout",
     "output_type": "stream",
     "text": [
      "There are 8 solutions !\n",
      "There is 1 unique solution !\n",
      "\n",
      "Solution 1 :\n",
      "\n",
      "    12   12   12   \n",
      "   ┼───┼───┼───┤\n",
      "12 │ 6 │ 4 │ 2 │\n",
      "   ┼───┼───┼───┤\n",
      "12 │ 5 │ ◾ │ 7 │\n",
      "   ┼───┼───┼───┤\n",
      "12 │ 1 │ 8 │ 3 │\n",
      "   ┴───┴───┴───┘\n"
     ]
    }
   ],
   "source": [
    "# show solutions\n",
    "# args: generated matrices,\n",
    "#       number to sum to,\n",
    "#       location of hole (ignore for no hole)\n",
    "showSolutions(matrices, 12, [(1,1)])"
   ]
  },
  {
   "cell_type": "code",
   "execution_count": 4,
   "metadata": {
    "collapsed": false
   },
   "outputs": [
    {
     "name": "stdout",
     "output_type": "stream",
     "text": [
      "\n",
      "\n",
      "Trying for sum to 11\n",
      "There are no solutions !\n",
      "\n",
      "\n",
      "Trying for sum to 13\n",
      "There are 8 solutions !\n",
      "There is 1 unique solution !\n",
      "\n",
      "Solution 1 :\n",
      "\n",
      "    13   13   13   \n",
      "   ┼───┼───┼───┤\n",
      "13 │ 7 │ 4 │ 2 │\n",
      "   ┼───┼───┼───┤\n",
      "13 │ 5 │ ◾ │ 8 │\n",
      "   ┼───┼───┼───┤\n",
      "13 │ 1 │ 9 │ 3 │\n",
      "   ┴───┴───┴───┘\n",
      "\n",
      "\n",
      "Trying for sum to 14\n",
      "There are 8 solutions !\n",
      "There is 1 unique solution !\n",
      "\n",
      "Solution 1 :\n",
      "\n",
      "    14   14   14   \n",
      "   ┼───┼───┼───┤\n",
      "14 │ 7 │ 5 │ 2 │\n",
      "   ┼───┼───┼───┤\n",
      "14 │ 6 │ ◾ │ 8 │\n",
      "   ┼───┼───┼───┤\n",
      "14 │ 1 │ 9 │ 4 │\n",
      "   ┴───┴───┴───┘\n",
      "\n",
      "\n",
      "Trying for sum to 15\n",
      "There are no solutions !\n"
     ]
    }
   ],
   "source": [
    "# now a few solutions to bonus problems\n",
    "for i in range(11,16):\n",
    "    if i == 12:\n",
    "        continue\n",
    "    print(\"\\n\\nTrying for sum to \" + str(i) )\n",
    "    showSolutions(matrices, i, [(1,1)])"
   ]
  },
  {
   "cell_type": "code",
   "execution_count": 5,
   "metadata": {
    "collapsed": false
   },
   "outputs": [
    {
     "name": "stdout",
     "output_type": "stream",
     "text": [
      "There are 8 solutions !\n",
      "There is 1 unique solution !\n",
      "\n",
      "Solution 1 :\n",
      "\n",
      "    12   12   12   \n",
      "   ┼───┼───┼───┤\n",
      "12 │ ◾ │ 8 │ 4 │\n",
      "   ┼───┼───┼───┤\n",
      "12 │ 5 │ 1 │ 6 │\n",
      "   ┼───┼───┼───┤\n",
      "12 │ 7 │ 3 │ 2 │\n",
      "   ┴───┴───┴───┘\n",
      "There are 8 solutions !\n",
      "There is 1 unique solution !\n",
      "\n",
      "Solution 1 :\n",
      "\n",
      "    12   12   12   \n",
      "   ┼───┼───┼───┤\n",
      "12 │ 8 │ ◾ │ 4 │\n",
      "   ┼───┼───┼───┤\n",
      "12 │ 1 │ 5 │ 6 │\n",
      "   ┼───┼───┼───┤\n",
      "12 │ 3 │ 7 │ 2 │\n",
      "   ┴───┴───┴───┘\n"
     ]
    }
   ],
   "source": [
    "# as well as displacement of hole on original problem\n",
    "# counting transpose variations, there are only 3 unique hole positions\n",
    "for i in range(0,2):\n",
    "    showSolutions(matrices, 12, [(0,i)])"
   ]
  },
  {
   "cell_type": "code",
   "execution_count": null,
   "metadata": {
    "collapsed": false
   },
   "outputs": [],
   "source": []
  },
  {
   "cell_type": "code",
   "execution_count": null,
   "metadata": {
    "collapsed": true
   },
   "outputs": [],
   "source": []
  }
 ],
 "metadata": {
  "kernelspec": {
   "display_name": "Python 3",
   "language": "python",
   "name": "python3"
  },
  "language_info": {
   "codemirror_mode": {
    "name": "ipython",
    "version": 3
   },
   "file_extension": ".py",
   "mimetype": "text/x-python",
   "name": "python",
   "nbconvert_exporter": "python",
   "pygments_lexer": "ipython3",
   "version": "3.5.3"
  }
 },
 "nbformat": 4,
 "nbformat_minor": 2
}
